{
 "cells": [
  {
   "cell_type": "code",
   "execution_count": 2,
   "metadata": {},
   "outputs": [],
   "source": [
    "import numpy as np\n",
    "import gym\n",
    "import tensorflow as tf\n",
    "from tensorflow.contrib.layers import flatten, conv2d, fully_connected\n",
    "from collections import deque, Counter\n",
    "import random\n",
    "from datetime import datetime\n",
    "import matplotlib.pyplot as plt\n",
    "import math"
   ]
  },
  {
   "cell_type": "code",
   "execution_count": null,
   "metadata": {},
   "outputs": [],
   "source": [
    "model_name = \"Bootstrap\""
   ]
  },
  {
   "cell_type": "code",
   "execution_count": null,
   "metadata": {},
   "outputs": [],
   "source": [
    "gym.envs.register(\n",
    "    id='CartPole-v3',\n",
    "    entry_point='gym.envs.classic_control:CartPoleEnv',\n",
    "    max_episode_steps=2000,\n",
    "    reward_threshold=-110.0,\n",
    ")"
   ]
  },
  {
   "cell_type": "code",
   "execution_count": null,
   "metadata": {},
   "outputs": [],
   "source": [
    "env = gym.make('CartPole-v3')\n",
    "n_outputs = env.action_space.n"
   ]
  },
  {
   "cell_type": "code",
   "execution_count": null,
   "metadata": {},
   "outputs": [],
   "source": [
    "tf.reset_default_graph()\n",
    "def q_network(X, name_scope, model_name):\n",
    "    # Initialize layers\n",
    "    if model_name == \"Bootstrap\":\n",
    "        output = []\n",
    "        \n",
    "        initializer = tf.contrib.layers.variance_scaling_initializer()\n",
    "        \n",
    "        with tf.variable_scope(name_scope) as scope:\n",
    "            fc1 = fully_connected(X, num_outputs = 24, activation_fn=tf.nn.relu, weights_initializer=initializer)\n",
    "        \n",
    "            for i in range(10):\n",
    "                with tf.variable_scope(\"heads_\" + str(i)):\n",
    "\n",
    "                    fc2 = fully_connected(fc1, num_outputs = 24, activation_fn=tf.nn.relu, weights_initializer=initializer)\n",
    "\n",
    "                    temp_output = fully_connected(fc2, num_outputs=n_outputs, activation_fn=None, weights_initializer=initializer)\n",
    "\n",
    "                    output.append(temp_output)\n",
    "\n",
    "            # Vars will store the parameters of the network such as weights\n",
    "        varibles = {v.name[len(scope.name):]: v for v in tf.get_collection(key = tf.GraphKeys.TRAINABLE_VARIABLES, scope = scope.name)}\n",
    "        return varibles, output\n",
    "        \n",
    "    if model_name == \"DQN\":\n",
    "            \n",
    "        # Initialize layers\n",
    "        initializer = tf.contrib.layers.variance_scaling_initializer()\n",
    "\n",
    "        with tf.variable_scope(name_scope) as scope: \n",
    "\n",
    "            fc1 = fully_connected(X, num_outputs = 24, activation_fn=tf.nn.relu, weights_initializer=initializer)\n",
    "            tf.summary.histogram('fc1',fc1)\n",
    "            \n",
    "            fc2 = fully_connected(fc1, num_outputs = 24, activation_fn=tf.nn.relu, weights_initializer=initializer)\n",
    "            tf.summary.histogram('fc2',fc2)\n",
    "\n",
    "            output = fully_connected(fc2, num_outputs=n_outputs, activation_fn=None, weights_initializer=initializer)\n",
    "            tf.summary.histogram('output',output)\n",
    "\n",
    "\n",
    "            # Vars will store the parameters of the network such as weights\n",
    "            varibles = {v.name[len(scope.name):]: v for v in tf.get_collection(key=tf.GraphKeys.TRAINABLE_VARIABLES, scope=scope.name)} \n",
    "            return varibles, output"
   ]
  },
  {
   "cell_type": "code",
   "execution_count": null,
   "metadata": {},
   "outputs": [],
   "source": [
    "eps_min = 0.05\n",
    "eps_max = 1.0\n",
    "eps_decay = 200\n",
    "steps_done = 0\n",
    "\n",
    "def epsilon_greedy(action):\n",
    "    global steps_done\n",
    "    eps_threshold = eps_min+(eps_max-eps_min)*math.exp(-1.*steps_done/eps_decay)\n",
    "    steps_done += 1\n",
    "    if np.random.rand() < eps_threshold:\n",
    "        return np.random.randint(n_outputs)\n",
    "    else:\n",
    "        if type(action) == np.ndarray and len(action) == 1:\n",
    "            return action[0]\n",
    "        return action"
   ]
  },
  {
   "cell_type": "code",
   "execution_count": null,
   "metadata": {},
   "outputs": [],
   "source": []
  },
  {
   "cell_type": "code",
   "execution_count": null,
   "metadata": {},
   "outputs": [],
   "source": [
    "buffer_len = 10000\n",
    "exp_buffer = deque(maxlen=buffer_len)"
   ]
  },
  {
   "cell_type": "code",
   "execution_count": null,
   "metadata": {},
   "outputs": [],
   "source": [
    "def sample_memories(batch_size):\n",
    "    perm_batch = np.random.permutation(len(exp_buffer))[:batch_size]\n",
    "    mem = np.array(exp_buffer)[perm_batch]\n",
    "    return mem[:,0], mem[:,1], mem[:,2], mem[:,3], mem[:,4]"
   ]
  },
  {
   "cell_type": "code",
   "execution_count": null,
   "metadata": {},
   "outputs": [],
   "source": [
    "num_episodes = 20\n",
    "batch_size = 128\n",
    "input_shape = (None, 4,)\n",
    "learning_rate = 0.001\n",
    "X_shape = (None, 4,)\n",
    "discount_factor = 0.999\n",
    "\n",
    "global_step = 0\n",
    "copy_steps = 100\n",
    "steps_train = 4\n",
    "start_steps = 2000"
   ]
  },
  {
   "cell_type": "code",
   "execution_count": null,
   "metadata": {},
   "outputs": [],
   "source": [
    "logdir = 'logs'\n",
    "tf.reset_default_graph()\n",
    "\n",
    "# Now we define the placeholder for our input i.e game state\n",
    "X = tf.placeholder(tf.float32, shape=X_shape)\n",
    "\n",
    "# we define a boolean called in_training_model to toggle the training\n",
    "in_training_mode = tf.placeholder(tf.bool)"
   ]
  },
  {
   "cell_type": "code",
   "execution_count": null,
   "metadata": {},
   "outputs": [],
   "source": [
    "# we build our Q network, which takes the input X and generates Q values for all the actions in the state\n",
    "mainQ, mainQ_outputs = q_network(X, 'mainQ',model_name)\n",
    "\n",
    "# similarly we build our target Q network\n",
    "targetQ, targetQ_outputs = q_network(X, 'targetQ',model_name)"
   ]
  },
  {
   "cell_type": "code",
   "execution_count": null,
   "metadata": {},
   "outputs": [],
   "source": [
    "# define the placeholder for our action values\n",
    "X_action = tf.placeholder(tf.int32, shape=(None,))\n",
    "Q_action = tf.reduce_sum(targetQ_outputs * tf.one_hot(X_action, n_outputs), axis=-1, keep_dims=True)"
   ]
  },
  {
   "cell_type": "code",
   "execution_count": null,
   "metadata": {},
   "outputs": [],
   "source": [
    "copy_op = [tf.assign(main_name, targetQ[var_name]) for var_name, main_name in mainQ.items()]\n",
    "copy_target_to_main = tf.group(*copy_op)"
   ]
  },
  {
   "cell_type": "code",
   "execution_count": null,
   "metadata": {},
   "outputs": [],
   "source": [
    "# define a placeholder for our output i.e action\n",
    "y = tf.placeholder(tf.float32, shape=(None,1))\n",
    "\n",
    "# now we calculate the loss which is the difference between actual value and predicted value\n",
    "loss = tf.reduce_mean(tf.square(y - Q_action))\n",
    "\n",
    "# we use adam optimizer for minimizing the loss\n",
    "optimizer = tf.train.AdamOptimizer(learning_rate)\n",
    "training_op = optimizer.minimize(loss)\n",
    "\n",
    "init = tf.global_variables_initializer()\n",
    "\n",
    "loss_summary = tf.summary.scalar('LOSS', loss)\n",
    "merge_summary = tf.summary.merge_all()\n",
    "file_writer = tf.summary.FileWriter(logdir, tf.get_default_graph())"
   ]
  },
  {
   "cell_type": "code",
   "execution_count": null,
   "metadata": {},
   "outputs": [],
   "source": [
    "import pandas as pd\n",
    "number_of_epochs = []\n",
    "rewards_of_episode = []\n",
    "with tf.Session() as sess:\n",
    "    init.run()\n",
    "    # for each episode\n",
    "    for i in range(50000):\n",
    "        done = False\n",
    "        obs = env.reset()\n",
    "        epoch = 0\n",
    "        episodic_reward = 0\n",
    "        actions_counter = Counter() \n",
    "        episodic_loss = []\n",
    "\n",
    "        # while the state is not the terminal state\n",
    "        if model_name == \"Bootstrap\":\n",
    "            head = int(np.random.uniform() * 10)\n",
    "        while not done:\n",
    "\n",
    "            # feed the game screen and get the Q values for each action\n",
    "            if model_name == \"Bootstrap\":\n",
    "                actions = mainQ_outputs[head].eval(feed_dict={X:[obs], in_training_mode:False})\n",
    "            elif model_name == \"DQN\":\n",
    "                actions = mainQ_outputs.eval(feed_dict={X:[obs], in_training_mode:False})\n",
    "            \n",
    "            # get the action\n",
    "            action = np.argmax(actions, axis=-1)\n",
    "            actions_counter[str(action)] += 1 \n",
    "            \n",
    "            # select the action using epsilon greedy policy\n",
    "            action = epsilon_greedy(action)\n",
    "            \n",
    "            # now perform the action and move to the next state, next_obs, receive reward\n",
    "            next_obs, reward, done, _ = env.step(action)\n",
    "\n",
    "            # Store this transistion as an experience in the replay buffer\n",
    "            exp_buffer.append([obs, action, next_obs, reward, done])\n",
    "            \n",
    "            # After certain steps, we train our Q network with samples from the experience replay buffer\n",
    "            if global_step % steps_train == 0 and global_step > batch_size:\n",
    "                \n",
    "                # sample experience\n",
    "                o_obs, o_act, o_next_obs, o_rew, o_done = sample_memories(batch_size)\n",
    "\n",
    "                # states\n",
    "                o_obs = [x for x in o_obs]\n",
    "\n",
    "                # next states\n",
    "                o_next_obs = [x for x in o_next_obs]\n",
    "\n",
    "                # next actions\n",
    "                if model_name == \"Bootstrap\":\n",
    "                    next_act = mainQ_outputs[head].eval(feed_dict={X:o_next_obs, in_training_mode:False})\n",
    "                elif model_name == \"DQN\":\n",
    "                    next_act = mainQ_outputs.eval(feed_dict={X:o_next_obs, in_training_mode:False})\n",
    "\n",
    "                # reward\n",
    "                y_batch = o_rew + discount_factor * np.max(next_act, axis = -1) * (1 - o_done) \n",
    "\n",
    "                # merge all summaries and write to the file\n",
    "                mrg_summary = merge_summary.eval(feed_dict={X:o_obs, y:np.expand_dims(y_batch, axis=-1), X_action:o_act, in_training_mode:False})\n",
    "                file_writer.add_summary(mrg_summary, global_step)\n",
    "\n",
    "                # now we train the network and calculate loss\n",
    "                train_loss, _ = sess.run([loss, training_op], feed_dict={X:o_obs, y:np.expand_dims(y_batch, axis=-1), X_action:o_act, in_training_mode:True})\n",
    "                episodic_loss.append(train_loss)\n",
    "            \n",
    "            # after some interval we copy our main Q network weights to target Q network\n",
    "            if (global_step + 1) % copy_steps == 0 and global_step > batch_size:\n",
    "                copy_target_to_main.run()\n",
    "                \n",
    "            obs = next_obs\n",
    "            epoch += 1\n",
    "            global_step += 1\n",
    "            episodic_reward += reward\n",
    "            if i%100==0:\n",
    "                result = pd.DataFrame(data = rewards_of_episode, columns = [['Rewards']])\n",
    "                writer = pd.ExcelWriter('boot_cartpole_10heads_3.xlsx')\n",
    "                result.to_excel(writer,'Sheet1')\n",
    "                writer.save()\n",
    "        rewards_of_episode.append(episodic_reward)\n",
    "        number_of_epochs.append(epoch)\n",
    "        print('Epoch', epoch, 'Reward', episodic_reward,'Steps',steps_done)"
   ]
  }
 ],
 "metadata": {
  "kernelspec": {
   "display_name": "Python 3",
   "language": "python",
   "name": "python3"
  },
  "language_info": {
   "codemirror_mode": {
    "name": "ipython",
    "version": 3
   },
   "file_extension": ".py",
   "mimetype": "text/x-python",
   "name": "python",
   "nbconvert_exporter": "python",
   "pygments_lexer": "ipython3",
   "version": "3.6.5"
  }
 },
 "nbformat": 4,
 "nbformat_minor": 2
}
