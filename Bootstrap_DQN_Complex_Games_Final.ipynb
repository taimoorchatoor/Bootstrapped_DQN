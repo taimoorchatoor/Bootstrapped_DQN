{
 "cells": [
  {
   "cell_type": "code",
   "execution_count": 2,
   "metadata": {},
   "outputs": [],
   "source": [
    "import numpy as np\n",
    "import gym\n",
    "import tensorflow as tf\n",
    "from tensorflow.contrib.layers import flatten, conv2d, fully_connected\n",
    "from collections import deque, Counter\n",
    "import random\n",
    "import pandas as pd\n",
    "from datetime import datetime"
   ]
  },
  {
   "cell_type": "code",
   "execution_count": null,
   "metadata": {},
   "outputs": [],
   "source": [
    "model_name = \"DQN\""
   ]
  },
  {
   "cell_type": "code",
   "execution_count": null,
   "metadata": {},
   "outputs": [],
   "source": [
    "color = np.array([210, 164, 74]).mean()\n",
    "\n",
    "def preprocess_observation(obs):\n",
    "    img = obs[1:176:2, ::2]\n",
    "    img = img.mean(axis=2)\n",
    "    img[img==color] = 0\n",
    "    img = (img - 128) / 128 - 1\n",
    "    return img.reshape(88,80,1)"
   ]
  },
  {
   "cell_type": "code",
   "execution_count": null,
   "metadata": {},
   "outputs": [],
   "source": [
    "!pip3 install atari-py\n",
    "env = gym.make(\"Qbert-v0\")\n",
    "n_outputs = env.action_space.n"
   ]
  },
  {
   "cell_type": "code",
   "execution_count": null,
   "metadata": {},
   "outputs": [],
   "source": [
    "tf.reset_default_graph()\n",
    "def q_network(X, name_scope, model_name):\n",
    "    with tf.device(\"/gpu:0\"):\n",
    "        if model_name == \"Bootstrap\":\n",
    "            initializer = tf.contrib.layers.variance_scaling_initializer()\n",
    "            with tf.variable_scope(name_scope, reuse = tf.AUTO_REUSE) as scope:\n",
    "                with tf.variable_scope(\"convert\"):\n",
    "                        layer_1 = conv2d(X, num_outputs=32, kernel_size=(8,8), stride=4, padding='SAME', weights_initializer=initializer) \n",
    "                        layer_2 = conv2d(layer_1, num_outputs=64, kernel_size=(4,4), stride=2, padding='SAME', weights_initializer=initializer)\n",
    "                        layer_3 = conv2d(layer_2, num_outputs=64, kernel_size=(3,3), stride=1, padding='SAME', weights_initializer=initializer)\n",
    "                flat = flatten(layer_3)\n",
    "                output = []\n",
    "                for i in range(10):\n",
    "                    with tf.variable_scope(\"heads_\" + str(i)):\n",
    "                        fc = fully_connected(flat, num_outputs=128, weights_initializer=initializer)\n",
    "                        temp_output = fully_connected(fc, num_outputs=n_outputs, activation_fn=None, weights_initializer=initializer)\n",
    "                        output.append(temp_output)\n",
    "                vars = {v.name[len(scope.name):]: v for v in tf.get_collection(key = tf.GraphKeys.TRAINABLE_VARIABLES, scope = scope.name)}\n",
    "                return vars, output\n",
    "        if model_name == \"DQN\":\n",
    "            initializer = tf.contrib.layers.variance_scaling_initializer()\n",
    "            with tf.variable_scope(name_scope) as scope: \n",
    "                layer_1 = conv2d(X, num_outputs=32, kernel_size=(8,8), stride=4, padding='SAME', weights_initializer=initializer) \n",
    "                tf.summary.histogram('layer_1',layer_1)\n",
    "\n",
    "                layer_2 = conv2d(layer_1, num_outputs=64, kernel_size=(4,4), stride=2, padding='SAME', weights_initializer=initializer)\n",
    "                tf.summary.histogram('layer_2',layer_2)\n",
    "\n",
    "                layer_3 = conv2d(layer_2, num_outputs=64, kernel_size=(3,3), stride=1, padding='SAME', weights_initializer=initializer)\n",
    "                tf.summary.histogram('layer_3',layer_3)\n",
    "\n",
    "                flat = flatten(layer_3)\n",
    "\n",
    "                fc = fully_connected(flat, num_outputs=128, weights_initializer=initializer)\n",
    "                tf.summary.histogram('fc',fc)\n",
    "\n",
    "                output = fully_connected(fc, num_outputs=n_outputs, activation_fn=None, weights_initializer=initializer)\n",
    "                tf.summary.histogram('output',output)\n",
    "                varibles = {v.name[len(scope.name):]: v for v in tf.get_collection(key=tf.GraphKeys.TRAINABLE_VARIABLES, scope=scope.name)} \n",
    "                return varibles, output"
   ]
  },
  {
   "cell_type": "code",
   "execution_count": null,
   "metadata": {},
   "outputs": [],
   "source": [
    "epsilon = 0.5\n",
    "eps_min = 0.05\n",
    "eps_max = 1.0\n",
    "eps_decay_steps = 500000\n",
    "\n",
    "def epsilon_greedy(action, step):\n",
    "    p = np.random.random(1).squeeze()\n",
    "    epsilon = max(eps_min, eps_max - (eps_max-eps_min) * step/eps_decay_steps)\n",
    "    if np.random.rand() < epsilon:\n",
    "        return np.random.randint(n_outputs)\n",
    "    else:\n",
    "        return action"
   ]
  },
  {
   "cell_type": "code",
   "execution_count": null,
   "metadata": {},
   "outputs": [],
   "source": [
    "buffer_len = 20000\n",
    "exp_buffer = deque(maxlen=buffer_len)"
   ]
  },
  {
   "cell_type": "code",
   "execution_count": null,
   "metadata": {},
   "outputs": [],
   "source": [
    "def sample_memories(batch_size):\n",
    "    perm_batch = np.random.permutation(len(exp_buffer))[:batch_size]\n",
    "    mem = np.array(exp_buffer)[perm_batch]\n",
    "    return mem[:,0], mem[:,1], mem[:,2], mem[:,3], mem[:,4]"
   ]
  },
  {
   "cell_type": "code",
   "execution_count": null,
   "metadata": {},
   "outputs": [],
   "source": [
    "num_episodes = 20\n",
    "batch_size = 48\n",
    "input_shape = (None, 88, 80, 1)\n",
    "learning_rate = 0.001\n",
    "X_shape = (None, 88, 80, 1)\n",
    "discount_factor = 0.97\n",
    "\n",
    "global_step = 0\n",
    "copy_steps = 100\n",
    "steps_train = 4\n",
    "start_steps = 2000"
   ]
  },
  {
   "cell_type": "code",
   "execution_count": null,
   "metadata": {},
   "outputs": [],
   "source": [
    "logdir = 'logs'\n",
    "tf.reset_default_graph()\n",
    "X = tf.placeholder(tf.float32, shape=X_shape)\n",
    "in_training_mode = tf.placeholder(tf.bool)"
   ]
  },
  {
   "cell_type": "code",
   "execution_count": null,
   "metadata": {},
   "outputs": [],
   "source": [
    "mainQ, mainQ_outputs = q_network(X, 'mainQ',model_name)\n",
    "targetQ, targetQ_outputs = q_network(X, 'targetQ',model_name)"
   ]
  },
  {
   "cell_type": "code",
   "execution_count": null,
   "metadata": {},
   "outputs": [],
   "source": [
    "X_action = tf.placeholder(tf.int32, shape=(None,))\n",
    "Q_action = tf.reduce_sum(targetQ_outputs * tf.one_hot(X_action, n_outputs), axis=-1, keep_dims=True)"
   ]
  },
  {
   "cell_type": "code",
   "execution_count": null,
   "metadata": {},
   "outputs": [],
   "source": [
    "copy_op = [tf.assign(main_name, targetQ[var_name]) for var_name, main_name in mainQ.items()]\n",
    "copy_target_to_main = tf.group(*copy_op)"
   ]
  },
  {
   "cell_type": "code",
   "execution_count": null,
   "metadata": {},
   "outputs": [],
   "source": [
    "y = tf.placeholder(tf.float32, shape=(None,1))\n",
    "loss = tf.reduce_mean(tf.square(y - Q_action))\n",
    "optimizer = tf.train.AdamOptimizer(learning_rate)\n",
    "training_op = optimizer.minimize(loss)\n",
    "init = tf.global_variables_initializer()\n",
    "loss_summary = tf.summary.scalar('LOSS', loss)\n",
    "merge_summary = tf.summary.merge_all()\n",
    "file_writer = tf.summary.FileWriter(logdir, tf.get_default_graph())"
   ]
  },
  {
   "cell_type": "code",
   "execution_count": null,
   "metadata": {},
   "outputs": [],
   "source": [
    "number_of_epochs = []\n",
    "rewards_of_episode = []\n",
    "config = tf.ConfigProto(allow_soft_placement=True) \n",
    "with tf.Session(config=config) as sess:\n",
    "    init.run()\n",
    "    for i in range(1000000):\n",
    "        done = False\n",
    "        obs = env.reset()\n",
    "        epoch = 0\n",
    "        episodic_reward = 0\n",
    "        actions_counter = Counter() \n",
    "        episodic_loss = []\n",
    "        \n",
    "        if model_name == \"Bootstrap\":\n",
    "            head = int(np.random.uniform() * 10)\n",
    "\n",
    "        while not done:\n",
    "\n",
    "            obs = preprocess_observation(obs)\n",
    "\n",
    "            if model_name == \"Bootstrap\":\n",
    "                actions = mainQ_outputs[head].eval(feed_dict={X:[obs], in_training_mode:False})\n",
    "            elif model_name == \"DQN\":\n",
    "                actions = mainQ_outputs.eval(feed_dict={X:[obs], in_training_mode:False})\n",
    "            \n",
    "            action = np.argmax(actions, axis=-1)\n",
    "            actions_counter[str(action)] += 1 \n",
    "\n",
    "            action = epsilon_greedy(action, global_step)\n",
    "            \n",
    "            next_obs, reward, done, _ = env.step(action)\n",
    "\n",
    "            exp_buffer.append([obs, action, preprocess_observation(next_obs), reward, done])\n",
    "            \n",
    "            if global_step % steps_train == 0 and global_step > start_steps:\n",
    "                \n",
    "                o_obs, o_act, o_next_obs, o_rew, o_done = sample_memories(batch_size)\n",
    "\n",
    "                o_obs = [x for x in o_obs]\n",
    "\n",
    "                o_next_obs = [x for x in o_next_obs]\n",
    "\n",
    "                if model_name == \"Bootstrap\":\n",
    "                    next_act = mainQ_outputs[head].eval(feed_dict={X:o_next_obs, in_training_mode:False})\n",
    "                elif model_name == \"DQN\":\n",
    "                    next_act = mainQ_outputs.eval(feed_dict={X:o_next_obs, in_training_mode:False})\n",
    "\n",
    "                y_batch = o_rew + discount_factor * np.max(next_act, axis = -1) * (1 - o_done) \n",
    "\n",
    "                mrg_summary = merge_summary.eval(feed_dict={X:o_obs, y:np.expand_dims(y_batch, axis=-1), X_action:o_act, in_training_mode:False})\n",
    "                file_writer.add_summary(mrg_summary, global_step)\n",
    "\n",
    "                train_loss, _ = sess.run([loss, training_op], feed_dict={X:o_obs, y:np.expand_dims(y_batch, axis=-1), X_action:o_act, in_training_mode:True})\n",
    "                episodic_loss.append(train_loss)\n",
    "            \n",
    "            if (global_step+1) % copy_steps == 0 and global_step > start_steps:\n",
    "                copy_target_to_main.run()\n",
    "                \n",
    "            obs = next_obs\n",
    "            epoch += 1\n",
    "            global_step += 1\n",
    "            episodic_reward += reward\n",
    "        rewards_of_episode.append(episodic_reward)\n",
    "        number_of_epochs.append(epoch)\n",
    "        if i%100==0:\n",
    "            result = pd.DataFrame(data = rewards_of_episode, columns = [['Rewards']])\n",
    "            writer = pd.ExcelWriter('Qbert_dqn_taimoor.xlsx')\n",
    "            result.to_excel(writer,'Sheet1')\n",
    "            writer.save()\n",
    "        print('Epoch', epoch, 'Reward', episodic_reward,)"
   ]
  },
  {
   "cell_type": "code",
   "execution_count": null,
   "metadata": {},
   "outputs": [],
   "source": []
  }
 ],
 "metadata": {
  "kernelspec": {
   "display_name": "Python 3",
   "language": "python",
   "name": "python3"
  },
  "language_info": {
   "codemirror_mode": {
    "name": "ipython",
    "version": 3
   },
   "file_extension": ".py",
   "mimetype": "text/x-python",
   "name": "python",
   "nbconvert_exporter": "python",
   "pygments_lexer": "ipython3",
   "version": "3.6.5"
  }
 },
 "nbformat": 4,
 "nbformat_minor": 2
}
